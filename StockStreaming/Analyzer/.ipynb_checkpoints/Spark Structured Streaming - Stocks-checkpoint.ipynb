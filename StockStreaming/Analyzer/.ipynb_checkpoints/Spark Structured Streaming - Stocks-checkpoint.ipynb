{
 "cells": [
  {
   "cell_type": "code",
   "execution_count": 1,
   "metadata": {},
   "outputs": [
    {
     "data": {
      "text/plain": [
       "\u001b[32mimport \u001b[39m\u001b[36m$ivy.$                                       \n",
       "\u001b[39m\n",
       "\u001b[32mimport \u001b[39m\u001b[36m$ivy.$                                      \n",
       "\u001b[39m\n",
       "\u001b[32mimport \u001b[39m\u001b[36m$ivy.$                                            \n",
       "\u001b[39m\n",
       "\u001b[32mimport \u001b[39m\u001b[36m$ivy.$                                                      \n",
       "\u001b[39m\n",
       "\u001b[32mimport \u001b[39m\u001b[36m$ivy.$                               \n",
       "\u001b[39m\n",
       "\u001b[32mimport \u001b[39m\u001b[36m$ivy.$                   \u001b[39m"
      ]
     },
     "execution_count": 1,
     "metadata": {},
     "output_type": "execute_result"
    }
   ],
   "source": [
    "import $ivy.`org.apache.spark:spark-core_2.11:2.4.4`\n",
    "import $ivy.`org.apache.spark:spark-sql_2.11:2.4.4`\n",
    "import $ivy.`org.apache.spark:spark-streaming_2.11:2.4.4`\n",
    "import $ivy.`com.microsoft.azure:azure-eventhubs-spark_2.11:2.3.13`\n",
    "import $ivy.`io.delta:delta-core_2.11:0.3.0`\n",
    "import $ivy.`log4j:log4j:1.2.17`"
   ]
  },
  {
   "cell_type": "markdown",
   "metadata": {},
   "source": [
    "## Importando Dependências"
   ]
  },
  {
   "cell_type": "code",
   "execution_count": 102,
   "metadata": {},
   "outputs": [
    {
     "data": {
      "text/plain": [
       "\u001b[32mimport \u001b[39m\u001b[36morg.apache.spark.sql.SparkSession\n",
       "\u001b[39m\n",
       "\u001b[32mimport \u001b[39m\u001b[36morg.apache.spark.SparkConf\n",
       "\u001b[39m\n",
       "\u001b[32mimport \u001b[39m\u001b[36morg.apache.spark.sql.functions._\n",
       "\u001b[39m\n",
       "\u001b[32mimport \u001b[39m\u001b[36morg.apache.spark.sql.types._\n",
       "\u001b[39m\n",
       "\u001b[32mimport \u001b[39m\u001b[36morg.apache.spark.sql.expressions._\n",
       "\n",
       "// Event Hubs\n",
       "\u001b[39m\n",
       "\u001b[32mimport \u001b[39m\u001b[36morg.apache.spark.eventhubs.{EventHubsConf,EventPosition}\n",
       "\n",
       "// Delta Lake\n",
       "\u001b[39m\n",
       "\u001b[32mimport \u001b[39m\u001b[36mio.delta.tables.DeltaTable\n",
       "\n",
       "// Log4j\n",
       "\u001b[39m\n",
       "\u001b[32mimport \u001b[39m\u001b[36morg.apache.log4j.{Level, Logger}\n",
       "\u001b[39m"
      ]
     },
     "execution_count": 102,
     "metadata": {},
     "output_type": "execute_result"
    }
   ],
   "source": [
    "// Spark\n",
    "import org.apache.spark.sql.SparkSession\n",
    "import org.apache.spark.SparkConf\n",
    "import org.apache.spark.sql.functions._\n",
    "import org.apache.spark.sql.types._\n",
    "import org.apache.spark.sql.expressions._\n",
    "\n",
    "// Event Hubs\n",
    "import org.apache.spark.eventhubs.{EventHubsConf,EventPosition}\n",
    "\n",
    "// Delta Lake\n",
    "import io.delta.tables.DeltaTable\n",
    "\n",
    "// Log4j\n",
    "import org.apache.log4j.{Level, Logger}\n",
    "Logger.getLogger(\"org\").setLevel(Level.OFF)\n",
    "Logger.getLogger(\"akka\").setLevel(Level.OFF)\n",
    "Logger.getRootLogger.setLevel(Level.OFF)"
   ]
  },
  {
   "cell_type": "code",
   "execution_count": 7,
   "metadata": {},
   "outputs": [
    {
     "data": {
      "text/plain": [
       "\u001b[36msparkConf\u001b[39m: \u001b[32mSparkConf\u001b[39m = org.apache.spark.SparkConf@20a08290\n",
       "\u001b[36mspark\u001b[39m: \u001b[32mSparkSession\u001b[39m = org.apache.spark.sql.SparkSession@2fe2c6f5\n",
       "\u001b[32mimport \u001b[39m\u001b[36mspark.implicits._\u001b[39m"
      ]
     },
     "execution_count": 7,
     "metadata": {},
     "output_type": "execute_result"
    }
   ],
   "source": [
    "// Criando Sessão do Spark\n",
    "\n",
    "val sparkConf = new SparkConf().setAll(\n",
    "    Seq((\"spark.executor.memory\",\"3g\"),(\"spark.driver.memory\",\"1g\"))\n",
    ")\n",
    "\n",
    "val spark = SparkSession\n",
    "                .builder\n",
    "                .master(\"local[*]\")\n",
    "                .config(sparkConf)\n",
    "                .getOrCreate()\n",
    "\n",
    "import spark.implicits._"
   ]
  },
  {
   "cell_type": "code",
   "execution_count": 132,
   "metadata": {},
   "outputs": [
    {
     "data": {
      "text/plain": [
       "\u001b[36mkey\u001b[39m: \u001b[32mString\u001b[39m = \u001b[32m\"Endpoint=sb://stockhub.servicebus.windows.net/;SharedAccessKeyName=listen;SharedAccessKey=q/ZEO4MaguioHiH2vQof02xdsGZVGE1V5RrE9IldOWU=;EntityPath=ev-stock\"\u001b[39m\n",
       "\u001b[36mevConf\u001b[39m: \u001b[32mEventHubsConf\u001b[39m = org.apache.spark.eventhubs.EventHubsConf@597bd08e"
      ]
     },
     "execution_count": 132,
     "metadata": {},
     "output_type": "execute_result"
    }
   ],
   "source": [
    "// Criando Conexão com EventHubs\n",
    "val key = \"Endpoint=sb://stockhub.servicebus.windows.net/;SharedAccessKeyName=listen;SharedAccessKey=q/ZEO4MaguioHiH2vQof02xdsGZVGE1V5RrE9IldOWU=;EntityPath=ev-stock\"\n",
    "val evConf = EventHubsConf(key).setStartingPosition(EventPosition.fromEndOfStream)"
   ]
  },
  {
   "cell_type": "code",
   "execution_count": 133,
   "metadata": {},
   "outputs": [
    {
     "data": {
      "text/plain": [
       "\u001b[36mcolumns\u001b[39m: \u001b[32mSeq\u001b[39m[\u001b[32mString\u001b[39m] = \u001b[33mList\u001b[39m(\n",
       "  \u001b[32m\"symbol\"\u001b[39m,\n",
       "  \u001b[32m\"name\"\u001b[39m,\n",
       "  \u001b[32m\"currency\"\u001b[39m,\n",
       "  \u001b[32m\"price\"\u001b[39m,\n",
       "  \u001b[32m\"price_open\"\u001b[39m,\n",
       "  \u001b[32m\"day_high\"\u001b[39m,\n",
       "  \u001b[32m\"day_low\"\u001b[39m,\n",
       "  \u001b[32m\"52_week_low\"\u001b[39m,\n",
       "  \u001b[32m\"day_change\"\u001b[39m,\n",
       "  \u001b[32m\"change_pct\"\u001b[39m,\n",
       "  \u001b[32m\"close_yesterday\"\u001b[39m,\n",
       "  \u001b[32m\"market_cap\"\u001b[39m,\n",
       "  \u001b[32m\"volume\"\u001b[39m,\n",
       "  \u001b[32m\"volume_avg\"\u001b[39m,\n",
       "  \u001b[32m\"shares\"\u001b[39m,\n",
       "  \u001b[32m\"timezone_name\"\u001b[39m,\n",
       "  \u001b[32m\"gmt_offset\"\u001b[39m,\n",
       "  \u001b[32m\"last_trade_time\"\u001b[39m\n",
       ")\n",
       "\u001b[36mexampleDF\u001b[39m: \u001b[32morg\u001b[39m.\u001b[32mapache\u001b[39m.\u001b[32mspark\u001b[39m.\u001b[32msql\u001b[39m.\u001b[32mpackage\u001b[39m.\u001b[32mDataFrame\u001b[39m = [body: binary, partition: string ... 7 more fields]"
      ]
     },
     "execution_count": 133,
     "metadata": {},
     "output_type": "execute_result"
    }
   ],
   "source": [
    "val columns = Seq(\"symbol\",\"name\",\"currency\",\"price\",\"price_open\",\"day_high\",\"day_low\",\"52_week_low\",\"day_change\",\"change_pct\",\n",
    "                 \"close_yesterday\",\"market_cap\",\"volume\",\"volume_avg\",\"shares\",\"timezone_name\",\"gmt_offset\",\"last_trade_time\")\n",
    "\n",
    "val exampleDF = spark.read.format(\"eventhubs\").options(evConf.toMap).load()"
   ]
  },
  {
   "cell_type": "code",
   "execution_count": 81,
   "metadata": {},
   "outputs": [
    {
     "data": {
      "text/plain": [
       "\u001b[36mparseMultipleJsons\u001b[39m: \u001b[32morg\u001b[39m.\u001b[32mapache\u001b[39m.\u001b[32mspark\u001b[39m.\u001b[32msql\u001b[39m.\u001b[32mexpressions\u001b[39m.\u001b[32mUserDefinedFunction\u001b[39m = \u001b[33mUserDefinedFunction\u001b[39m(\n",
       "  <function1>,\n",
       "  \u001b[33mArrayType\u001b[39m(StringType, true),\n",
       "  \u001b[33mSome\u001b[39m(\u001b[33mList\u001b[39m(StringType))\n",
       ")"
      ]
     },
     "execution_count": 81,
     "metadata": {},
     "output_type": "execute_result"
    }
   ],
   "source": [
    "val parseMultipleJsons = udf((json : String) => {\n",
    "    val jsonSet = \"[]\".toSet\n",
    "    json\n",
    "        .filterNot(jsonSet)\n",
    "        .replaceAll(\"},\",\"}-,},\")\n",
    "        .split(\"},\")\n",
    "        .map(r => r.replaceAll(\"}-,\",\"}\").trim)\n",
    "        .filter(r => r.length > 0)\n",
    "})"
   ]
  },
  {
   "cell_type": "code",
   "execution_count": 134,
   "metadata": {},
   "outputs": [
    {
     "data": {
      "text/plain": [
       "defined \u001b[32mfunction\u001b[39m \u001b[36mparseDF\u001b[39m\n",
       "\u001b[36mfinalDF\u001b[39m: \u001b[32morg\u001b[39m.\u001b[32mapache\u001b[39m.\u001b[32mspark\u001b[39m.\u001b[32msql\u001b[39m.\u001b[32mpackage\u001b[39m.\u001b[32mDataFrame\u001b[39m = [symbol: string, name: string ... 17 more fields]"
      ]
     },
     "execution_count": 134,
     "metadata": {},
     "output_type": "execute_result"
    }
   ],
   "source": [
    "def parseDF(df : org.apache.spark.sql.DataFrame) : org.apache.spark.sql.DataFrame = {\n",
    "    df\n",
    "    .select($\"Body\".cast(\"String\"))\n",
    "    .select(get_json_object($\"Body\",\"$.data\") as \"data\")\n",
    "    .select(explode(parseMultipleJsons($\"data\")) as \"data\")\n",
    "    .select(json_tuple($\"data\",columns:_*))\n",
    "    .toDF(columns:_*)\n",
    "    .withColumn(\"price\",$\"price\".cast(DoubleType))\n",
    "    .withColumn(\"day_high\",$\"day_high\".cast(DoubleType))\n",
    "    .withColumn(\"day_low\",$\"day_high\".cast(DoubleType))\n",
    "    .withColumn(\"52_week_low\",$\"52_week_low\".cast(DoubleType))\n",
    "    .withColumn(\"day_change\",$\"day_change\".cast(DoubleType))\n",
    "    .withColumn(\"change_pct\",$\"change_pct\".cast(DoubleType))\n",
    "    .withColumn(\"close_yesterday\",$\"close_yesterday\".cast(DoubleType))\n",
    "    .withColumn(\"market_cap\",$\"market_cap\".cast(LongType))\n",
    "    .withColumn(\"volume\",$\"volume\".cast(LongType))\n",
    "    .withColumn(\"volume_avg\",$\"volume_avg\".cast(DoubleType))\n",
    "    .withColumn(\"shares\",$\"shares\".cast(LongType))\n",
    "    .withColumn(\"gmt_offset\",$\"shares\".cast(IntegerType))\n",
    "    .withColumn(\"last_trade_time\",to_timestamp($\"last_trade_time\"))\n",
    "    .withColumn(\"brazil_time_zone\",from_utc_timestamp(to_utc_timestamp($\"last_trade_time\",\"America/New_York\"),\"America/Sao_Paulo\"))\n",
    "} \n",
    "\n",
    "val finalDF = parseDF(exampleDF)\n",
    "        "
   ]
  },
  {
   "cell_type": "code",
   "execution_count": 135,
   "metadata": {},
   "outputs": [
    {
     "data": {
      "text/plain": [
       "\u001b[36mfinalDF2\u001b[39m: \u001b[32morg\u001b[39m.\u001b[32mapache\u001b[39m.\u001b[32mspark\u001b[39m.\u001b[32msql\u001b[39m.\u001b[32mpackage\u001b[39m.\u001b[32mDataFrame\u001b[39m = [symbol: string, name: string ... 17 more fields]"
      ]
     },
     "execution_count": 135,
     "metadata": {},
     "output_type": "execute_result"
    }
   ],
   "source": [
    "val finalDF2 = finalDF\n",
    "                    .withColumn(\"row_num\",row_number().over(Window.partitionBy($\"symbol\").orderBy($\"last_trade_time\".desc)))\n",
    "                    .filter(\"row_num = 1\")\n",
    "                    .drop(\"row_num\")"
   ]
  },
  {
   "cell_type": "code",
   "execution_count": 108,
   "metadata": {},
   "outputs": [
    {
     "data": {
      "text/html": [
       " <table>\n",
       "                <tr>\n",
       "                 <th>symbol</th><th>name</th><th>currency</th><th>price</th><th>price_open</th><th>day_high</th><th>day_low</th><th>52_week_low</th><th>day_change</th><th>change_pct</th><th>close_yesterday</th><th>market_cap</th><th>volume</th><th>volume_avg</th><th>shares</th><th>timezone_name</th><th>gmt_offset</th><th>last_trade_time</th><th>brazil_time_zone</th>\n",
       "                </tr>\n",
       "                <tr><td>AAPL</td><td>Apple Inc.</td><td>USD</td><td>217.73</td><td>221.38</td><td>222.56</td><td>222.56</td><td>142.0</td><td>-3.23</td><td>-1.46</td><td>220.96</td><td>975966044160</td><td>32221071</td><td>2.9366862E7</td><td>4519179776</td><td>America/New_York</td><td>224212480</td><td>2019-09-20 16:00:...</td><td>2019-09-20 17:00:...</td></tr><tr><td>HSBA.L</td><td>HSBC Holdings plc</td><td>GBX</td><td>615.6</td><td>611.60</td><td>616.9</td><td>616.9</td><td>578.2</td><td>-0.4</td><td>-0.06</td><td>616.0</td><td>769404812923</td><td>59903612</td><td>4.0670729E7</td><td>20159984676</td><td>Europe/London</td><td>-1314851804</td><td>2019-09-20 16:36:...</td><td>2019-09-20 17:36:...</td></tr><tr><td>AMZN</td><td>Amazon.com, Inc.</td><td>USD</td><td>1794.16</td><td>1821.71</td><td>1830.63</td><td>1830.63</td><td>1307.0</td><td>-27.34</td><td>-1.5</td><td>1821.5</td><td>889465602048</td><td>4324478</td><td>2504562.0</td><td>494656000</td><td>America/New_York</td><td>494656000</td><td>2019-09-20 16:00:...</td><td>2019-09-20 17:00:...</td></tr><tr><td>MSFT</td><td>Microsoft Corpora...</td><td>USD</td><td>139.44</td><td>141.01</td><td>141.65</td><td>141.65</td><td>93.96</td><td>-1.63</td><td>-1.16</td><td>141.07</td><td>1084281257984</td><td>32000285</td><td>2.47878E7</td><td>7635409920</td><td>America/New_York</td><td>-954524672</td><td>2019-09-20 16:00:...</td><td>2019-09-20 17:00:...</td></tr>\n",
       "            </table>\n",
       "        "
      ]
     },
     "metadata": {},
     "output_type": "display_data"
    }
   ],
   "source": [
    "finalDF2.showHTML()"
   ]
  },
  {
   "cell_type": "code",
   "execution_count": 109,
   "metadata": {},
   "outputs": [],
   "source": [
    "// Salvando no formato Delta\n",
    "// finalDF2\n",
    "//     .write\n",
    "//     .format(\"delta\")\n",
    "//     .save(\"/home/vitor/Documents/Big-Data/StockStreaming/Analyzer/stockdata\")"
   ]
  },
  {
   "cell_type": "code",
   "execution_count": 136,
   "metadata": {},
   "outputs": [
    {
     "data": {
      "text/html": [
       " <table>\n",
       "                <tr>\n",
       "                 <th>version</th><th>timestamp</th><th>userId</th><th>userName</th><th>operation</th><th>operationParameters</th><th>job</th><th>notebook</th><th>clusterId</th><th>readVersion</th><th>isolationLevel</th><th>isBlindAppend</th>\n",
       "                </tr>\n",
       "                <tr><td>12</td><td>2019-09-21 22:44:...</td><td>null</td><td>null</td><td>WRITE</td><td>Map(mode -&gt; Overw...</td><td>null</td><td>null</td><td>null</td><td>11</td><td>null</td><td>false</td></tr><tr><td>11</td><td>2019-09-21 22:39:...</td><td>null</td><td>null</td><td>MERGE</td><td>Map(predicate -&gt; ...</td><td>null</td><td>null</td><td>null</td><td>10</td><td>null</td><td>false</td></tr><tr><td>10</td><td>2019-09-21 22:39:...</td><td>null</td><td>null</td><td>MERGE</td><td>Map(predicate -&gt; ...</td><td>null</td><td>null</td><td>null</td><td>9</td><td>null</td><td>false</td></tr><tr><td>9</td><td>2019-09-21 22:38:...</td><td>null</td><td>null</td><td>MERGE</td><td>Map(predicate -&gt; ...</td><td>null</td><td>null</td><td>null</td><td>8</td><td>null</td><td>false</td></tr><tr><td>8</td><td>2019-09-21 22:37:...</td><td>null</td><td>null</td><td>MERGE</td><td>Map(predicate -&gt; ...</td><td>null</td><td>null</td><td>null</td><td>7</td><td>null</td><td>false</td></tr><tr><td>7</td><td>2019-09-21 22:32:...</td><td>null</td><td>null</td><td>WRITE</td><td>Map(mode -&gt; Overw...</td><td>null</td><td>null</td><td>null</td><td>6</td><td>null</td><td>false</td></tr><tr><td>6</td><td>2019-09-21 22:02:...</td><td>null</td><td>null</td><td>MERGE</td><td>Map(predicate -&gt; ...</td><td>null</td><td>null</td><td>null</td><td>5</td><td>null</td><td>false</td></tr><tr><td>5</td><td>2019-09-21 22:01:...</td><td>null</td><td>null</td><td>MERGE</td><td>Map(predicate -&gt; ...</td><td>null</td><td>null</td><td>null</td><td>4</td><td>null</td><td>false</td></tr><tr><td>4</td><td>2019-09-21 22:00:...</td><td>null</td><td>null</td><td>MERGE</td><td>Map(predicate -&gt; ...</td><td>null</td><td>null</td><td>null</td><td>3</td><td>null</td><td>false</td></tr><tr><td>3</td><td>2019-09-21 21:59:...</td><td>null</td><td>null</td><td>MERGE</td><td>Map(predicate -&gt; ...</td><td>null</td><td>null</td><td>null</td><td>2</td><td>null</td><td>false</td></tr><tr><td>2</td><td>2019-09-21 21:58:...</td><td>null</td><td>null</td><td>MERGE</td><td>Map(predicate -&gt; ...</td><td>null</td><td>null</td><td>null</td><td>1</td><td>null</td><td>false</td></tr><tr><td>1</td><td>2019-09-21 21:44:...</td><td>null</td><td>null</td><td>UPDATE</td><td>Map(predicate -&gt; ...</td><td>null</td><td>null</td><td>null</td><td>0</td><td>null</td><td>false</td></tr><tr><td>0</td><td>2019-09-21 21:10:...</td><td>null</td><td>null</td><td>WRITE</td><td>Map(mode -&gt; Error...</td><td>null</td><td>null</td><td>null</td><td>null</td><td>null</td><td>true</td></tr>\n",
       "            </table>\n",
       "        "
      ]
     },
     "metadata": {},
     "output_type": "display_data"
    },
    {
     "data": {
      "text/plain": [
       "\u001b[36mstockDelta\u001b[39m: \u001b[32mDeltaTable\u001b[39m = io.delta.tables.DeltaTable@5455fab"
      ]
     },
     "execution_count": 136,
     "metadata": {},
     "output_type": "execute_result"
    }
   ],
   "source": [
    "// Carregando um tabela delta\n",
    "val stockDelta = DeltaTable\n",
    "    .forPath(\"/home/vitor/Documents/Big-Data/StockStreaming/Analyzer/stockdata\")\n",
    "\n",
    "stockDelta.history().showHTML()"
   ]
  },
  {
   "cell_type": "code",
   "execution_count": 115,
   "metadata": {},
   "outputs": [
    {
     "data": {
      "text/html": [
       " <table>\n",
       "                <tr>\n",
       "                 <th>symbol</th><th>name</th><th>currency</th><th>price</th><th>price_open</th><th>day_high</th><th>day_low</th><th>52_week_low</th><th>day_change</th><th>change_pct</th><th>close_yesterday</th><th>market_cap</th><th>volume</th><th>volume_avg</th><th>shares</th><th>timezone_name</th><th>gmt_offset</th><th>last_trade_time</th><th>brazil_time_zone</th>\n",
       "                </tr>\n",
       "                <tr><td>MSFT</td><td>Microsoft Corpora...</td><td>USD</td><td>139.44</td><td>141.01</td><td>141.65</td><td>141.65</td><td>93.96</td><td>-1.63</td><td>-1.16</td><td>141.07</td><td>1084281257984</td><td>32000285</td><td>2.47878E7</td><td>7635409920</td><td>America/New_York</td><td>-954524672</td><td>2019-09-20 16:00:...</td><td>2019-09-20 17:00:...</td></tr><tr><td>AMZN</td><td>Amazon.com, Inc.</td><td>USD</td><td>1794.16</td><td>1821.71</td><td>1830.63</td><td>1830.63</td><td>1307.0</td><td>-27.34</td><td>-1.5</td><td>1821.5</td><td>889465602048</td><td>4324478</td><td>2504562.0</td><td>494656000</td><td>America/New_York</td><td>494656000</td><td>2019-09-20 16:00:...</td><td>2019-09-20 17:00:...</td></tr><tr><td>HSBA.L</td><td>HSBC Holdings plc</td><td>GBX</td><td>615.6</td><td>611.60</td><td>616.9</td><td>616.9</td><td>578.2</td><td>-0.4</td><td>-0.06</td><td>616.0</td><td>769404812923</td><td>59903612</td><td>4.0670729E7</td><td>20159984676</td><td>Europe/London</td><td>-1314851804</td><td>2019-09-20 16:36:...</td><td>2019-09-20 17:36:...</td></tr><tr><td>AAPL</td><td>Apple Inc.</td><td>USD</td><td>217.73</td><td>221.38</td><td>222.56</td><td>222.56</td><td>142.0</td><td>-3.23</td><td>-1.46</td><td>220.96</td><td>975966044160</td><td>32221071</td><td>2.9366862E7</td><td>4519179776</td><td>America/New_York</td><td>224212480</td><td>2019-09-20 16:00:...</td><td>2019-09-20 17:00:...</td></tr>\n",
       "            </table>\n",
       "        "
      ]
     },
     "metadata": {},
     "output_type": "display_data"
    }
   ],
   "source": [
    "spark\n",
    "    .read\n",
    "    .format(\"delta\")\n",
    "    .option(\"versionAsOf\",\"0\")\n",
    "    .load(\"/home/vitor/Documents/Big-Data/StockStreaming/Analyzer/stockdata\")\n",
    "    .showHTML()"
   ]
  },
  {
   "cell_type": "code",
   "execution_count": 121,
   "metadata": {},
   "outputs": [],
   "source": [
    "// Atualizando um registro\n",
    "stockDelta.updateExpr(\"symbol = 'AAPL'\",Map(\"currency\" -> \"'BRL'\"))"
   ]
  },
  {
   "cell_type": "code",
   "execution_count": 122,
   "metadata": {},
   "outputs": [
    {
     "data": {
      "text/html": [
       " <table>\n",
       "                <tr>\n",
       "                 <th>version</th><th>timestamp</th><th>userId</th><th>userName</th><th>operation</th><th>operationParameters</th><th>job</th><th>notebook</th><th>clusterId</th><th>readVersion</th><th>isolationLevel</th><th>isBlindAppend</th>\n",
       "                </tr>\n",
       "                <tr><td>1</td><td>2019-09-21 21:44:...</td><td>null</td><td>null</td><td>UPDATE</td><td>Map(predicate -&gt; ...</td><td>null</td><td>null</td><td>null</td><td>0</td><td>null</td><td>false</td></tr><tr><td>0</td><td>2019-09-21 21:10:...</td><td>null</td><td>null</td><td>WRITE</td><td>Map(mode -&gt; Error...</td><td>null</td><td>null</td><td>null</td><td>null</td><td>null</td><td>true</td></tr>\n",
       "            </table>\n",
       "        "
      ]
     },
     "metadata": {},
     "output_type": "display_data"
    }
   ],
   "source": [
    "stockDelta.history().showHTML()"
   ]
  },
  {
   "cell_type": "code",
   "execution_count": 123,
   "metadata": {},
   "outputs": [
    {
     "data": {
      "text/html": [
       " <table>\n",
       "                <tr>\n",
       "                 <th>symbol</th><th>name</th><th>currency</th><th>price</th><th>price_open</th><th>day_high</th><th>day_low</th><th>52_week_low</th><th>day_change</th><th>change_pct</th><th>close_yesterday</th><th>market_cap</th><th>volume</th><th>volume_avg</th><th>shares</th><th>timezone_name</th><th>gmt_offset</th><th>last_trade_time</th><th>brazil_time_zone</th>\n",
       "                </tr>\n",
       "                <tr><td>MSFT</td><td>Microsoft Corpora...</td><td>USD</td><td>139.44</td><td>141.01</td><td>141.65</td><td>141.65</td><td>93.96</td><td>-1.63</td><td>-1.16</td><td>141.07</td><td>1084281257984</td><td>32000285</td><td>2.47878E7</td><td>7635409920</td><td>America/New_York</td><td>-954524672</td><td>2019-09-20 16:00:...</td><td>2019-09-20 17:00:...</td></tr><tr><td>AMZN</td><td>Amazon.com, Inc.</td><td>USD</td><td>1794.16</td><td>1821.71</td><td>1830.63</td><td>1830.63</td><td>1307.0</td><td>-27.34</td><td>-1.5</td><td>1821.5</td><td>889465602048</td><td>4324478</td><td>2504562.0</td><td>494656000</td><td>America/New_York</td><td>494656000</td><td>2019-09-20 16:00:...</td><td>2019-09-20 17:00:...</td></tr><tr><td>HSBA.L</td><td>HSBC Holdings plc</td><td>GBX</td><td>615.6</td><td>611.60</td><td>616.9</td><td>616.9</td><td>578.2</td><td>-0.4</td><td>-0.06</td><td>616.0</td><td>769404812923</td><td>59903612</td><td>4.0670729E7</td><td>20159984676</td><td>Europe/London</td><td>-1314851804</td><td>2019-09-20 16:36:...</td><td>2019-09-20 17:36:...</td></tr><tr><td>AAPL</td><td>Apple Inc.</td><td>BRL</td><td>217.73</td><td>221.38</td><td>222.56</td><td>222.56</td><td>142.0</td><td>-3.23</td><td>-1.46</td><td>220.96</td><td>975966044160</td><td>32221071</td><td>2.9366862E7</td><td>4519179776</td><td>America/New_York</td><td>224212480</td><td>2019-09-20 16:00:...</td><td>2019-09-20 17:00:...</td></tr>\n",
       "            </table>\n",
       "        "
      ]
     },
     "metadata": {},
     "output_type": "display_data"
    }
   ],
   "source": [
    "stockDelta.toDF.showHTML()"
   ]
  },
  {
   "cell_type": "code",
   "execution_count": 92,
   "metadata": {},
   "outputs": [
    {
     "data": {
      "text/plain": [
       "defined \u001b[32mclass\u001b[39m \u001b[36mRichDF\u001b[39m"
      ]
     },
     "execution_count": 92,
     "metadata": {},
     "output_type": "execute_result"
    }
   ],
   "source": [
    "implicit class RichDF(val ds: org.apache.spark.sql.DataFrame) {\n",
    "    def showHTML(limit:Int = 20, truncate: Int = 20) = {\n",
    "        import xml.Utility.escape\n",
    "        val data = ds.take(limit)\n",
    "        val header = ds.schema.fieldNames.toSeq        \n",
    "        val rows: Seq[Seq[String]] = data.map { row =>\n",
    "          row.toSeq.map { cell =>\n",
    "            val str = cell match {\n",
    "              case null => \"null\"\n",
    "              case binary: Array[Byte] => binary.map(\"%02X\".format(_)).mkString(\"[\", \" \", \"]\")\n",
    "              case array: Array[_] => array.mkString(\"[\", \", \", \"]\")\n",
    "              case seq: Seq[_] => seq.mkString(\"[\", \", \", \"]\")\n",
    "              case _ => cell.toString\n",
    "            }\n",
    "            if (truncate > 0 && str.length > truncate) {\n",
    "              // do not show ellipses for strings shorter than 4 characters.\n",
    "              if (truncate < 4) str.substring(0, truncate)\n",
    "              else str.substring(0, truncate - 3) + \"...\"\n",
    "            } else {\n",
    "              str\n",
    "            }\n",
    "          }: Seq[String]\n",
    "        }\n",
    "\n",
    "        publish.html(s\"\"\" <table>\n",
    "                <tr>\n",
    "                 ${header.map(h => s\"<th>${escape(h)}</th>\").mkString}\n",
    "                </tr>\n",
    "                ${rows.map { row =>\n",
    "                  s\"<tr>${row.map{c => s\"<td>${escape(c)}</td>\" }.mkString}</tr>\"\n",
    "                }.mkString}\n",
    "            </table>\n",
    "        \"\"\")        \n",
    "    }\n",
    "}"
   ]
  },
  {
   "cell_type": "markdown",
   "metadata": {},
   "source": [
    "## Streaming"
   ]
  },
  {
   "cell_type": "code",
   "execution_count": 137,
   "metadata": {},
   "outputs": [
    {
     "data": {
      "text/plain": [
       "\u001b[36mstockStreamDF\u001b[39m: \u001b[32morg\u001b[39m.\u001b[32mapache\u001b[39m.\u001b[32mspark\u001b[39m.\u001b[32msql\u001b[39m.\u001b[32mpackage\u001b[39m.\u001b[32mDataFrame\u001b[39m = [body: binary, partition: string ... 7 more fields]\n",
       "\u001b[36mparsedStockStreamDF\u001b[39m: \u001b[32morg\u001b[39m.\u001b[32mapache\u001b[39m.\u001b[32mspark\u001b[39m.\u001b[32msql\u001b[39m.\u001b[32mpackage\u001b[39m.\u001b[32mDataFrame\u001b[39m = [symbol: string, name: string ... 17 more fields]"
      ]
     },
     "execution_count": 137,
     "metadata": {},
     "output_type": "execute_result"
    }
   ],
   "source": [
    "val stockStreamDF = spark.readStream.format(\"eventhubs\").options(evConf.toMap).load()\n",
    "val parsedStockStreamDF = parseDF(stockStreamDF)"
   ]
  },
  {
   "cell_type": "code",
   "execution_count": null,
   "metadata": {},
   "outputs": [],
   "source": [
    "parsedStockStreamDF\n",
    "        .writeStream\n",
    "        .format(\"delta\")\n",
    "        .option(\"checkpoinLocation\",\"/home/vitor/Documents/Big-Data/StockStreaming/Analyzer/checkpoint\")\n",
    "        .foreachBatch((microBatchOutputDF : org.apache.spark.sql.DataFrame, batchId : Long) => {\n",
    "            \n",
    "            val outputStream = microBatchOutputDF\n",
    "                                .withColumn(\"row_num\",row_number().over(Window.partitionBy($\"symbol\").orderBy($\"last_trade_time\".desc)))\n",
    "                                .filter(\"row_num = 1\")\n",
    "                                .drop(\"row_num\")\n",
    "            \n",
    "            val stockDelta = DeltaTable\n",
    "                                .forPath(\"/home/vitor/Documents/Big-Data/StockStreaming/Analyzer/stockdata\")\n",
    "            \n",
    "            stockDelta\n",
    "                .as(\"orig\")\n",
    "                .merge(\n",
    "                    outputStream.as(\"updates\"),\n",
    "                    \"orig.symbol = updates.symbol\"\n",
    "                )\n",
    "                .whenMatched().updateAll()\n",
    "                .whenNotMatched().insertAll()\n",
    "                .execute()\n",
    "        }).start().awaitTermination()"
   ]
  }
 ],
 "metadata": {
  "kernelspec": {
   "display_name": "Scala",
   "language": "scala",
   "name": "scala"
  },
  "language_info": {
   "codemirror_mode": "text/x-scala",
   "file_extension": ".scala",
   "mimetype": "text/x-scala",
   "name": "scala",
   "nbconvert_exporter": "script",
   "version": "2.11.12"
  }
 },
 "nbformat": 4,
 "nbformat_minor": 2
}
