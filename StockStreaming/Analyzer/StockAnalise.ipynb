{
 "cells": [
  {
   "cell_type": "code",
   "execution_count": 1,
   "metadata": {},
   "outputs": [
    {
     "data": {
      "text/plain": [
       "\u001b[32mimport \u001b[39m\u001b[36m$ivy.$                                       \n",
       "\u001b[39m\n",
       "\u001b[32mimport \u001b[39m\u001b[36m$ivy.$                                      \n",
       "\u001b[39m\n",
       "\u001b[32mimport \u001b[39m\u001b[36m$ivy.$                                            \n",
       "\u001b[39m\n",
       "\u001b[32mimport \u001b[39m\u001b[36m$ivy.$                                                      \n",
       "\u001b[39m\n",
       "\u001b[32mimport \u001b[39m\u001b[36m$ivy.$                               \n",
       "\u001b[39m\n",
       "\u001b[32mimport \u001b[39m\u001b[36m$ivy.$                   \u001b[39m"
      ]
     },
     "execution_count": 1,
     "metadata": {},
     "output_type": "execute_result"
    }
   ],
   "source": [
    "import $ivy.`org.apache.spark:spark-core_2.11:2.4.4`\n",
    "import $ivy.`org.apache.spark:spark-sql_2.11:2.4.4`\n",
    "import $ivy.`org.apache.spark:spark-streaming_2.11:2.4.4`\n",
    "import $ivy.`com.microsoft.azure:azure-eventhubs-spark_2.11:2.3.13`\n",
    "import $ivy.`io.delta:delta-core_2.11:0.3.0`\n",
    "import $ivy.`log4j:log4j:1.2.17`"
   ]
  },
  {
   "cell_type": "code",
   "execution_count": 2,
   "metadata": {},
   "outputs": [
    {
     "data": {
      "text/plain": [
       "\u001b[32mimport \u001b[39m\u001b[36morg.apache.spark.sql.SparkSession\n",
       "\u001b[39m\n",
       "\u001b[32mimport \u001b[39m\u001b[36morg.apache.spark.SparkConf\n",
       "\u001b[39m\n",
       "\u001b[32mimport \u001b[39m\u001b[36morg.apache.spark.sql.functions._\n",
       "\u001b[39m\n",
       "\u001b[32mimport \u001b[39m\u001b[36morg.apache.spark.sql.types._\n",
       "\u001b[39m\n",
       "\u001b[32mimport \u001b[39m\u001b[36morg.apache.spark.sql.expressions._\n",
       "\n",
       "// Event Hubs\n",
       "\u001b[39m\n",
       "\u001b[32mimport \u001b[39m\u001b[36morg.apache.spark.eventhubs.{EventHubsConf,EventPosition}\n",
       "\n",
       "// Delta Lake\n",
       "\u001b[39m\n",
       "\u001b[32mimport \u001b[39m\u001b[36mio.delta.tables.DeltaTable\n",
       "\n",
       "// Log4j\n",
       "\u001b[39m\n",
       "\u001b[32mimport \u001b[39m\u001b[36morg.apache.log4j.{Level, Logger}\n",
       "\u001b[39m"
      ]
     },
     "execution_count": 2,
     "metadata": {},
     "output_type": "execute_result"
    }
   ],
   "source": [
    "// Spark\n",
    "import org.apache.spark.sql.SparkSession\n",
    "import org.apache.spark.SparkConf\n",
    "import org.apache.spark.sql.functions._\n",
    "import org.apache.spark.sql.types._\n",
    "import org.apache.spark.sql.expressions._\n",
    "\n",
    "// Event Hubs\n",
    "import org.apache.spark.eventhubs.{EventHubsConf,EventPosition}\n",
    "\n",
    "// Delta Lake\n",
    "import io.delta.tables.DeltaTable\n",
    "\n",
    "// Log4j\n",
    "import org.apache.log4j.{Level, Logger}\n",
    "Logger.getLogger(\"org\").setLevel(Level.OFF)\n",
    "Logger.getLogger(\"akka\").setLevel(Level.OFF)\n",
    "Logger.getRootLogger.setLevel(Level.OFF)"
   ]
  },
  {
   "cell_type": "code",
   "execution_count": 3,
   "metadata": {},
   "outputs": [
    {
     "name": "stderr",
     "output_type": "stream",
     "text": [
      "Using Spark's default log4j profile: org/apache/spark/log4j-defaults.properties\n"
     ]
    },
    {
     "data": {
      "text/plain": [
       "\u001b[36mspark\u001b[39m: \u001b[32mSparkSession\u001b[39m = org.apache.spark.sql.SparkSession@6159b31"
      ]
     },
     "execution_count": 3,
     "metadata": {},
     "output_type": "execute_result"
    }
   ],
   "source": [
    "val spark = SparkSession.builder.master(\"local[2]\").getOrCreate"
   ]
  },
  {
   "cell_type": "code",
   "execution_count": 5,
   "metadata": {},
   "outputs": [
    {
     "data": {
      "text/plain": [
       "defined \u001b[32mclass\u001b[39m \u001b[36mRichDF\u001b[39m"
      ]
     },
     "execution_count": 5,
     "metadata": {},
     "output_type": "execute_result"
    }
   ],
   "source": [
    "implicit class RichDF(val ds: org.apache.spark.sql.DataFrame) {\n",
    "    def showHTML(limit:Int = 20, truncate: Int = 20) = {\n",
    "        import xml.Utility.escape\n",
    "        val data = ds.take(limit)\n",
    "        val header = ds.schema.fieldNames.toSeq        \n",
    "        val rows: Seq[Seq[String]] = data.map { row =>\n",
    "          row.toSeq.map { cell =>\n",
    "            val str = cell match {\n",
    "              case null => \"null\"\n",
    "              case binary: Array[Byte] => binary.map(\"%02X\".format(_)).mkString(\"[\", \" \", \"]\")\n",
    "              case array: Array[_] => array.mkString(\"[\", \", \", \"]\")\n",
    "              case seq: Seq[_] => seq.mkString(\"[\", \", \", \"]\")\n",
    "              case _ => cell.toString\n",
    "            }\n",
    "            if (truncate > 0 && str.length > truncate) {\n",
    "              // do not show ellipses for strings shorter than 4 characters.\n",
    "              if (truncate < 4) str.substring(0, truncate)\n",
    "              else str.substring(0, truncate - 3) + \"...\"\n",
    "            } else {\n",
    "              str\n",
    "            }\n",
    "          }: Seq[String]\n",
    "        }\n",
    "\n",
    "        publish.html(s\"\"\" <table>\n",
    "                <tr>\n",
    "                 ${header.map(h => s\"<th>${escape(h)}</th>\").mkString}\n",
    "                </tr>\n",
    "                ${rows.map { row =>\n",
    "                  s\"<tr>${row.map{c => s\"<td>${escape(c)}</td>\" }.mkString}</tr>\"\n",
    "                }.mkString}\n",
    "            </table>\n",
    "        \"\"\")        \n",
    "    }\n",
    "}"
   ]
  },
  {
   "cell_type": "code",
   "execution_count": 8,
   "metadata": {},
   "outputs": [
    {
     "data": {
      "text/plain": [
       "\u001b[32mimport \u001b[39m\u001b[36mspark.implicits._\u001b[39m"
      ]
     },
     "execution_count": 8,
     "metadata": {},
     "output_type": "execute_result"
    }
   ],
   "source": [
    "import spark.implicits._"
   ]
  },
  {
   "cell_type": "code",
   "execution_count": 16,
   "metadata": {},
   "outputs": [],
   "source": [
    "DeltaTable\n",
    "    .forPath(\"/home/vitor/Documents/Big-Data/StockStreaming/Analyzer/stockdata\")\n",
    "    .toDF\n",
    "    .withColumn(\"row_num\",row_number().over(Window.partitionBy($\"symbol\").orderBy($\"last_trade_time\".desc)))\n",
    "    .filter(\"row_num = 1\")\n",
    "    .drop(\"row_num\")\n",
    "    .write\n",
    "    .format(\"delta\")\n",
    "    .mode(\"overwrite\")\n",
    "    .save(\"/home/vitor/Documents/Big-Data/StockStreaming/Analyzer/stockdata\")"
   ]
  },
  {
   "cell_type": "code",
   "execution_count": 17,
   "metadata": {},
   "outputs": [
    {
     "data": {
      "text/html": [
       " <table>\n",
       "                <tr>\n",
       "                 <th>symbol</th><th>name</th><th>currency</th><th>price</th><th>price_open</th><th>day_high</th><th>day_low</th><th>52_week_low</th><th>day_change</th><th>change_pct</th><th>close_yesterday</th><th>market_cap</th><th>volume</th><th>volume_avg</th><th>shares</th><th>timezone_name</th><th>gmt_offset</th><th>last_trade_time</th><th>brazil_time_zone</th>\n",
       "                </tr>\n",
       "                <tr><td>MSFT</td><td>Microsoft Corpora...</td><td>USD</td><td>139.44</td><td>141.01</td><td>141.65</td><td>141.65</td><td>93.96</td><td>-1.63</td><td>-1.16</td><td>141.07</td><td>1084281257984</td><td>32000285</td><td>2.47878E7</td><td>7635409920</td><td>America/New_York</td><td>-954524672</td><td>2019-09-20 16:00:...</td><td>2019-09-20 17:00:...</td></tr><tr><td>AMZN</td><td>Amazon.com, Inc.</td><td>USD</td><td>1794.16</td><td>1821.71</td><td>1830.63</td><td>1830.63</td><td>1307.0</td><td>-27.34</td><td>-1.5</td><td>1821.5</td><td>889465602048</td><td>4324478</td><td>2504562.0</td><td>494656000</td><td>America/New_York</td><td>494656000</td><td>2019-09-20 16:00:...</td><td>2019-09-20 17:00:...</td></tr><tr><td>HSBA.L</td><td>HSBC Holdings plc</td><td>GBX</td><td>615.6</td><td>611.60</td><td>616.9</td><td>616.9</td><td>578.2</td><td>-0.4</td><td>-0.06</td><td>616.0</td><td>769404812923</td><td>59903612</td><td>4.0670729E7</td><td>20159984676</td><td>Europe/London</td><td>-1314851804</td><td>2019-09-20 16:36:...</td><td>2019-09-20 17:36:...</td></tr><tr><td>GOOG</td><td>Alphabet Inc.</td><td>USD</td><td>1229.93</td><td>1233.12</td><td>1243.27</td><td>1243.27</td><td>970.11</td><td>-8.78</td><td>-0.71</td><td>1238.71</td><td>857204654080</td><td>1573080</td><td>1216737.0</td><td>347344992</td><td>America/New_York</td><td>347344992</td><td>2019-09-20 16:00:...</td><td>2019-09-20 17:00:...</td></tr><tr><td>AAPL</td><td>Apple Inc.</td><td>USD</td><td>217.73</td><td>221.38</td><td>222.56</td><td>222.56</td><td>142.0</td><td>-3.23</td><td>-1.46</td><td>220.96</td><td>975966044160</td><td>32221071</td><td>2.9366862E7</td><td>4519179776</td><td>America/New_York</td><td>224212480</td><td>2019-09-20 16:00:...</td><td>2019-09-20 17:00:...</td></tr>\n",
       "            </table>\n",
       "        "
      ]
     },
     "metadata": {},
     "output_type": "display_data"
    }
   ],
   "source": [
    "DeltaTable\n",
    "    .forPath(\"/home/vitor/Documents/Big-Data/StockStreaming/Analyzer/stockdata\")\n",
    "    .toDF\n",
    "    .showHTML()"
   ]
  }
 ],
 "metadata": {
  "kernelspec": {
   "display_name": "Scala",
   "language": "scala",
   "name": "scala"
  },
  "language_info": {
   "codemirror_mode": "text/x-scala",
   "file_extension": ".scala",
   "mimetype": "text/x-scala",
   "name": "scala",
   "nbconvert_exporter": "script",
   "version": "2.11.12"
  }
 },
 "nbformat": 4,
 "nbformat_minor": 2
}
