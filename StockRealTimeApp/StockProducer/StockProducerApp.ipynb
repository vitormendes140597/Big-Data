{
 "cells": [
  {
   "cell_type": "markdown",
   "metadata": {},
   "source": [
    "## Downloading All Packages Dependencies"
   ]
  },
  {
   "cell_type": "code",
   "execution_count": 6,
   "metadata": {},
   "outputs": [
    {
     "name": "stderr",
     "output_type": "stream",
     "text": [
      "Downloading https://repo1.maven.org/maven2/org/slf4j/slf4j-log4j12/1.7.25/slf4j-log4j12-1.7.25.pom\n",
      "Downloading https://repo1.maven.org/maven2/org/slf4j/slf4j-log4j12/1.7.25/slf4j-log4j12-1.7.25.pom.sha1\n",
      "Downloaded https://repo1.maven.org/maven2/org/slf4j/slf4j-log4j12/1.7.25/slf4j-log4j12-1.7.25.pom\n",
      "Downloaded https://repo1.maven.org/maven2/org/slf4j/slf4j-log4j12/1.7.25/slf4j-log4j12-1.7.25.pom.sha1\n",
      "Downloading https://repo1.maven.org/maven2/org/slf4j/slf4j-log4j12/1.7.25/slf4j-log4j12-1.7.25-sources.jar\n",
      "Downloading https://repo1.maven.org/maven2/org/slf4j/slf4j-log4j12/1.7.25/slf4j-log4j12-1.7.25-sources.jar.sha1\n",
      "Downloading https://repo1.maven.org/maven2/org/slf4j/slf4j-log4j12/1.7.25/slf4j-log4j12-1.7.25.jar\n",
      "Downloading https://repo1.maven.org/maven2/org/slf4j/slf4j-log4j12/1.7.25/slf4j-log4j12-1.7.25.jar.sha1\n",
      "Downloaded https://repo1.maven.org/maven2/org/slf4j/slf4j-log4j12/1.7.25/slf4j-log4j12-1.7.25-sources.jar.sha1\n",
      "Downloaded https://repo1.maven.org/maven2/org/slf4j/slf4j-log4j12/1.7.25/slf4j-log4j12-1.7.25-sources.jar\n",
      "Downloaded https://repo1.maven.org/maven2/org/slf4j/slf4j-log4j12/1.7.25/slf4j-log4j12-1.7.25.jar.sha1\n",
      "Downloaded https://repo1.maven.org/maven2/org/slf4j/slf4j-log4j12/1.7.25/slf4j-log4j12-1.7.25.jar\n"
     ]
    },
    {
     "data": {
      "text/plain": [
       "\u001b[32mimport \u001b[39m\u001b[36m$ivy.$                            \n",
       "\u001b[39m\n",
       "\u001b[32mimport \u001b[39m\u001b[36m$ivy.$                                     \n",
       "\u001b[39m\n",
       "\u001b[32mimport \u001b[39m\u001b[36m$ivy.$                               \u001b[39m"
      ]
     },
     "execution_count": 6,
     "metadata": {},
     "output_type": "execute_result"
    }
   ],
   "source": [
    "import $ivy.`com.lihaoyi::requests:0.2.0`\n",
    "import $ivy.`org.apache.kafka:kafka-clients:2.3.0`\n",
    "import $ivy.`org.slf4j:slf4j-log4j12:1.7.25`"
   ]
  },
  {
   "cell_type": "markdown",
   "metadata": {},
   "source": [
    "## Importing all necessary modules"
   ]
  },
  {
   "cell_type": "code",
   "execution_count": 18,
   "metadata": {},
   "outputs": [
    {
     "data": {
      "text/plain": [
       "\u001b[32mimport \u001b[39m\u001b[36mjava.sql.Date\n",
       "\u001b[39m\n",
       "\u001b[32mimport \u001b[39m\u001b[36morg.slf4j.{Logger,LoggerFactory}\n",
       "\u001b[39m\n",
       "\u001b[32mimport \u001b[39m\u001b[36morg.apache.kafka.clients.producer.{KafkaProducer,ProducerConfig,ProducerRecord,Callback,RecordMetadata}\u001b[39m"
      ]
     },
     "execution_count": 18,
     "metadata": {},
     "output_type": "execute_result"
    }
   ],
   "source": [
    "import org.slf4j.{Logger,LoggerFactory}\n",
    "import org.apache.kafka.clients.producer.{KafkaProducer,ProducerConfig,ProducerRecord,Callback,RecordMetadata}"
   ]
  },
  {
   "cell_type": "code",
   "execution_count": 41,
   "metadata": {},
   "outputs": [
    {
     "data": {
      "text/plain": [
       "\u001b[32mimport \u001b[39m\u001b[36mjava.util.Properties\n",
       "\n",
       "\u001b[39m\n",
       "defined \u001b[32mobject\u001b[39m \u001b[36mStockProducer\u001b[39m\n",
       "defined \u001b[32mobject\u001b[39m \u001b[36mRequester\u001b[39m"
      ]
     },
     "execution_count": 41,
     "metadata": {},
     "output_type": "execute_result"
    }
   ],
   "source": [
    "import java.util.Properties\n",
    "\n",
    "object StockProducer {\n",
    "     \n",
    "    val props = new Properties()\n",
    "    props.put(ProducerConfig.VALUE_SERIALIZER_CLASS_CONFIG,\"org.apache.kafka.common.serialization.StringSerializer\")\n",
    "    props.put(ProducerConfig.KEY_SERIALIZER_CLASS_CONFIG,\"org.apache.kafka.common.serialization.StringSerializer\")\n",
    "    props.put(ProducerConfig.BOOTSTRAP_SERVERS_CONFIG,\"localhost:8082\")\n",
    "    props.put(ProducerConfig.ACKS_CONFIG,\"all\")\n",
    "    \n",
    "    private val producer = new KafkaProducer[String,String](props)\n",
    "    \n",
    "    // Envia Mensagem utilizando a Key\n",
    "    def sendMessage(kafkaTopic : String, key : String, message : String) : Unit = {\n",
    "        \n",
    "        var record : ProducerRecord[String,String] = new ProducerRecord[String,String](kafkaTopic,key,message)\n",
    "        \n",
    "        producer.send(record,new Callback {\n",
    "            override def onCompletion(recordMetadata : RecordMetadata, e : Exception) : Unit = {\n",
    "                if( e == null) {\n",
    "                    println(e)\n",
    "                } else {\n",
    "                    println(s\"Event Sent! : Partition : ${recordMetadata.offset()}, Enqeued Time : ${recordMetadata.timestamp}\")\n",
    "                }\n",
    "            }\n",
    "        })\n",
    "    }\n",
    "    \n",
    "    // Envia Mensagem utilizando Round Robin Strategy\n",
    "    def sendMessage(kafkaTopic : String, message : String) : Unit = {\n",
    "        \n",
    "        var record : ProducerRecord[String,String] = new ProducerRecord[String,String](kafkaTopic,message)\n",
    "        \n",
    "        producer.send(record,new Callback {\n",
    "            override def onCompletion(recordMetadata : RecordMetadata, e : Exception) : Unit = {\n",
    "                if( e == null) {\n",
    "                    println(e)\n",
    "                } else {\n",
    "                    println(s\"Event Sent! : Partition : ${recordMetadata.offset()}, Enqeued Time : ${recordMetadata.timestamp}\")\n",
    "                }\n",
    "            }\n",
    "        })\n",
    "    }\n",
    "    \n",
    "}\n",
    "\n",
    "object Requester {\n",
    "\n",
    "    private final val apiKey : String = \"CW7DIEFXLWKPC797\"\n",
    "    private val url : String = \"https://www.alphavantage.co/query?function=GLOBAL_QUOTE\"\n",
    "    \n",
    "    def get(stockName : String, interval : Long = 120000) : Unit = {\n",
    "        val finalUrl : String = this.url + s\"&symbol=${stockName}\" + s\"&apikey=${this.apiKey}\"\n",
    "        \n",
    "        while(true) {\n",
    "            val message = requests.get(finalUrl).text\n",
    "//             StockProducer.sendMessage(\"stock_topic\",stockName,message)\n",
    "            println(message)\n",
    "            Thread.sleep(interval)\n",
    "        }\n",
    "        \n",
    "    }\n",
    "}"
   ]
  },
  {
   "cell_type": "code",
   "execution_count": 42,
   "metadata": {},
   "outputs": [
    {
     "data": {
      "text/plain": [
       "defined \u001b[32mclass\u001b[39m \u001b[36mStockThread\u001b[39m"
      ]
     },
     "execution_count": 42,
     "metadata": {},
     "output_type": "execute_result"
    }
   ],
   "source": [
    "class StockThread extends Runnable {\n",
    "    \n",
    "    var stockName : String = _\n",
    "    var interval : Long = _\n",
    "    \n",
    "    def this(stockName : String, interval : Long = 60000) {\n",
    "        this()\n",
    "        this.stockName = stockName\n",
    "        this.interval = interval\n",
    "    }\n",
    "    \n",
    "    def run() : Unit = {\n",
    "        Requester.get(this.stockName,this.interval)\n",
    "    }\n",
    "    \n",
    "}"
   ]
  },
  {
   "cell_type": "code",
   "execution_count": 43,
   "metadata": {},
   "outputs": [
    {
     "data": {
      "text/plain": [
       "\u001b[36mthread1\u001b[39m: \u001b[32mThread\u001b[39m = Thread[Thread-3,5,main]\n",
       "\u001b[36mthread2\u001b[39m: \u001b[32mThread\u001b[39m = Thread[Thread-4,5,main]\n",
       "\u001b[36mthread3\u001b[39m: \u001b[32mThread\u001b[39m = Thread[Thread-5,5,main]"
      ]
     },
     "execution_count": 43,
     "metadata": {},
     "output_type": "execute_result"
    }
   ],
   "source": [
    "val thread1 = new Thread(new StockThread(\"MSFT\"))\n",
    "val thread2 = new Thread(new StockThread(\"FB\"))\n",
    "val thread3 = new Thread(new StockThread(\"AAPL\"))"
   ]
  },
  {
   "cell_type": "code",
   "execution_count": 44,
   "metadata": {},
   "outputs": [],
   "source": [
    "thread1.start"
   ]
  },
  {
   "cell_type": "code",
   "execution_count": 45,
   "metadata": {},
   "outputs": [],
   "source": [
    "thread2.start"
   ]
  },
  {
   "cell_type": "code",
   "execution_count": 46,
   "metadata": {},
   "outputs": [],
   "source": [
    "thread3.start"
   ]
  }
 ],
 "metadata": {
  "kernelspec": {
   "display_name": "Scala",
   "language": "scala",
   "name": "scala"
  },
  "language_info": {
   "codemirror_mode": "text/x-scala",
   "file_extension": ".scala",
   "mimetype": "text/x-scala",
   "name": "scala",
   "nbconvert_exporter": "script",
   "version": "2.12.8"
  }
 },
 "nbformat": 4,
 "nbformat_minor": 2
}
