{
 "cells": [
  {
   "cell_type": "markdown",
   "metadata": {},
   "source": [
    "## Downloading All Packages Dependencies"
   ]
  },
  {
   "cell_type": "code",
   "execution_count": 6,
   "metadata": {},
   "outputs": [
    {
     "name": "stderr",
     "output_type": "stream",
     "text": [
      "Downloading https://repo1.maven.org/maven2/org/slf4j/slf4j-log4j12/1.7.25/slf4j-log4j12-1.7.25.pom\n",
      "Downloading https://repo1.maven.org/maven2/org/slf4j/slf4j-log4j12/1.7.25/slf4j-log4j12-1.7.25.pom.sha1\n",
      "Downloaded https://repo1.maven.org/maven2/org/slf4j/slf4j-log4j12/1.7.25/slf4j-log4j12-1.7.25.pom\n",
      "Downloaded https://repo1.maven.org/maven2/org/slf4j/slf4j-log4j12/1.7.25/slf4j-log4j12-1.7.25.pom.sha1\n",
      "Downloading https://repo1.maven.org/maven2/org/slf4j/slf4j-log4j12/1.7.25/slf4j-log4j12-1.7.25-sources.jar\n",
      "Downloading https://repo1.maven.org/maven2/org/slf4j/slf4j-log4j12/1.7.25/slf4j-log4j12-1.7.25-sources.jar.sha1\n",
      "Downloading https://repo1.maven.org/maven2/org/slf4j/slf4j-log4j12/1.7.25/slf4j-log4j12-1.7.25.jar\n",
      "Downloading https://repo1.maven.org/maven2/org/slf4j/slf4j-log4j12/1.7.25/slf4j-log4j12-1.7.25.jar.sha1\n",
      "Downloaded https://repo1.maven.org/maven2/org/slf4j/slf4j-log4j12/1.7.25/slf4j-log4j12-1.7.25-sources.jar.sha1\n",
      "Downloaded https://repo1.maven.org/maven2/org/slf4j/slf4j-log4j12/1.7.25/slf4j-log4j12-1.7.25-sources.jar\n",
      "Downloaded https://repo1.maven.org/maven2/org/slf4j/slf4j-log4j12/1.7.25/slf4j-log4j12-1.7.25.jar.sha1\n",
      "Downloaded https://repo1.maven.org/maven2/org/slf4j/slf4j-log4j12/1.7.25/slf4j-log4j12-1.7.25.jar\n"
     ]
    },
    {
     "data": {
      "text/plain": [
       "\u001b[32mimport \u001b[39m\u001b[36m$ivy.$                            \n",
       "\u001b[39m\n",
       "\u001b[32mimport \u001b[39m\u001b[36m$ivy.$                                     \n",
       "\u001b[39m\n",
       "\u001b[32mimport \u001b[39m\u001b[36m$ivy.$                               \u001b[39m"
      ]
     },
     "execution_count": 6,
     "metadata": {},
     "output_type": "execute_result"
    }
   ],
   "source": [
    "import $ivy.`com.lihaoyi::requests:0.2.0`\n",
    "import $ivy.`org.apache.kafka:kafka-clients:2.3.0`\n",
    "import $ivy.`org.slf4j:slf4j-log4j12:1.7.25`"
   ]
  },
  {
   "cell_type": "markdown",
   "metadata": {},
   "source": [
    "## Importing all necessary modules"
   ]
  },
  {
   "cell_type": "code",
   "execution_count": 18,
   "metadata": {},
   "outputs": [
    {
     "data": {
      "text/plain": [
       "\u001b[32mimport \u001b[39m\u001b[36mjava.sql.Date\n",
       "\u001b[39m\n",
       "\u001b[32mimport \u001b[39m\u001b[36morg.slf4j.{Logger,LoggerFactory}\n",
       "\u001b[39m\n",
       "\u001b[32mimport \u001b[39m\u001b[36morg.apache.kafka.clients.producer.{KafkaProducer,ProducerConfig,ProducerRecord,Callback,RecordMetadata}\u001b[39m"
      ]
     },
     "execution_count": 18,
     "metadata": {},
     "output_type": "execute_result"
    }
   ],
   "source": [
    "import org.slf4j.{Logger,LoggerFactory}\n",
    "import org.apache.kafka.clients.producer.{KafkaProducer,ProducerConfig,ProducerRecord,Callback,RecordMetadata}"
   ]
  },
  {
   "cell_type": "code",
   "execution_count": 23,
   "metadata": {},
   "outputs": [
    {
     "data": {
      "text/plain": [
       "\u001b[32mimport \u001b[39m\u001b[36mjava.util.Properties\n",
       "\n",
       "\u001b[39m\n",
       "defined \u001b[32mobject\u001b[39m \u001b[36mStockProducer\u001b[39m\n",
       "defined \u001b[32mobject\u001b[39m \u001b[36mSender\u001b[39m"
      ]
     },
     "execution_count": 23,
     "metadata": {},
     "output_type": "execute_result"
    }
   ],
   "source": [
    "import java.util.Properties\n",
    "\n",
    "object StockProducer {\n",
    "     \n",
    "    val props = new Properties()\n",
    "    props.put(ProducerConfig.VALUE_SERIALIZER_CLASS_CONFIG,\"org.apache.kafka.common.serialization.StringSerializer\")\n",
    "    props.put(ProducerConfig.KEY_SERIALIZER_CLASS_CONFIG,\"org.apache.kafka.common.serialization.StringSerializer\")\n",
    "    props.put(ProducerConfig.BOOTSTRAP_SERVERS_CONFIG,\"localhost:8082\")\n",
    "    props.put(ProducerConfig.ACKS_CONFIG,\"all\")\n",
    "    \n",
    "}\n",
    "\n",
    "object Sender {\n",
    "\n",
    "    private final val apiKey : String = \"CW7DIEFXLWKPC797\"\n",
    "    private val url : String = \"https://www.alphavantage.co/query?function=GLOBAL_QUOTE\"\n",
    "    \n",
    "    def send(stockName : String, interval : Long) : Unit = {\n",
    "        val finalUrl : String = this.url + s\"&symbol=${stockName}\" + s\"&apikey=${this.apiKey}\"\n",
    "        \n",
    "        while(true) {\n",
    "            \n",
    "        }\n",
    "        \n",
    "    }\n",
    "}"
   ]
  },
  {
   "cell_type": "code",
   "execution_count": 21,
   "metadata": {},
   "outputs": [
    {
     "name": "stderr",
     "output_type": "stream",
     "text": [
      "cmd21.sc:1: type valueOf is not a member of object java.sql.Timestamp\n",
      "val res21 = new java.sql.Timestamp.valueOf(\"2019-09-01 10:10:00\")\n",
      "                                   ^Compilation Failed"
     ]
    },
    {
     "ename": "",
     "evalue": "",
     "output_type": "error",
     "traceback": [
      "Compilation Failed"
     ]
    }
   ],
   "source": []
  },
  {
   "cell_type": "code",
   "execution_count": 5,
   "metadata": {},
   "outputs": [
    {
     "data": {
      "text/plain": [
       "\u001b[36mres4\u001b[39m: \u001b[32mString\u001b[39m = \u001b[32m\"\"\"{\n",
       "    \"Global Quote\": {\n",
       "        \"01. symbol\": \"MSFT\",\n",
       "        \"02. open\": \"137.7800\",\n",
       "        \"03. high\": \"138.0600\",\n",
       "        \"04. low\": \"136.5700\",\n",
       "        \"05. price\": \"137.3200\",\n",
       "        \"06. volume\": \"16554185\",\n",
       "        \"07. latest trading day\": \"2019-09-13\",\n",
       "        \"08. previous close\": \"137.5200\",\n",
       "        \"09. change\": \"-0.2000\",\n",
       "        \"10. change percent\": \"-0.1454%\"\n",
       "    }\n",
       "}\"\"\"\u001b[39m"
      ]
     },
     "execution_count": 5,
     "metadata": {},
     "output_type": "execute_result"
    }
   ],
   "source": [
    "val req = requests.get(\"https://www.alphavantage.co/query?function=GLOBAL_QUOTE&symbol=MSFT&apikey=demo\")\n",
    "req.text"
   ]
  }
 ],
 "metadata": {
  "kernelspec": {
   "display_name": "Scala",
   "language": "scala",
   "name": "scala"
  },
  "language_info": {
   "codemirror_mode": "text/x-scala",
   "file_extension": ".scala",
   "mimetype": "text/x-scala",
   "name": "scala",
   "nbconvert_exporter": "script",
   "version": "2.12.8"
  }
 },
 "nbformat": 4,
 "nbformat_minor": 2
}
