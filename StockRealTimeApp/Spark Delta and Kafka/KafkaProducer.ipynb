{
 "cells": [
  {
   "cell_type": "code",
   "execution_count": 24,
   "metadata": {
    "scrolled": true
   },
   "outputs": [
    {
     "data": {
      "text/plain": [
       "\u001b[32mimport \u001b[39m\u001b[36m$ivy.$                                     \n",
       "\u001b[39m\n",
       "\u001b[32mimport \u001b[39m\u001b[36m$ivy.$                                \u001b[39m"
      ]
     },
     "execution_count": 24,
     "metadata": {},
     "output_type": "execute_result"
    }
   ],
   "source": [
    "import $ivy.`org.apache.kafka:kafka-clients:2.3.0`\n",
    "import $ivy.`com.google.code.gson:gson:2.8.5`"
   ]
  },
  {
   "cell_type": "markdown",
   "metadata": {},
   "source": [
    "## Creating Event Class"
   ]
  },
  {
   "cell_type": "code",
   "execution_count": 55,
   "metadata": {},
   "outputs": [
    {
     "data": {
      "text/plain": [
       "\u001b[32mimport \u001b[39m\u001b[36mjava.time.{Instant, ZoneId, ZonedDateTime}\n",
       "\u001b[39m\n",
       "\u001b[32mimport \u001b[39m\u001b[36mcom.google.gson.Gson\n",
       "\n",
       "\u001b[39m\n",
       "defined \u001b[32mclass\u001b[39m \u001b[36mEvent\u001b[39m\n",
       "defined \u001b[32mobject\u001b[39m \u001b[36mGenerator\u001b[39m"
      ]
     },
     "execution_count": 55,
     "metadata": {},
     "output_type": "execute_result"
    }
   ],
   "source": [
    "import java.time.{Instant, ZoneId, ZonedDateTime}\n",
    "import com.google.gson.Gson\n",
    "\n",
    "class Event {\n",
    "    \n",
    "    var id : Int = -1\n",
    "    var name : String = _\n",
    "    var maxPeopleAllowed : Int = _\n",
    "    var eventType : String = _\n",
    "    var location : String = _\n",
    "    var lastUpdate : String = _ \n",
    "    \n",
    "    def this(id : Int, name : String, maxPeopleAllowed : Int, eventType : String, location : String) = {\n",
    "        this()\n",
    "        this.id = id\n",
    "        this.name = name\n",
    "        this.maxPeopleAllowed = maxPeopleAllowed\n",
    "        this.eventType = eventType\n",
    "        this.location = location\n",
    "        this.lastUpdate = Instant.ofEpochMilli(System.currentTimeMillis).toString\n",
    "    }\n",
    "    \n",
    "    def setUpdates(updates : Map[String,String]) : Unit = {\n",
    "        \n",
    "        updates.foreach(m => {\n",
    "            val k = m._1\n",
    "            val v = m._2\n",
    "            \n",
    "            k match {\n",
    "                case \"id\" => println(\"Not Allowed to Change ID\")\n",
    "                case \"name\" => this.setName(v)\n",
    "                case \"maxPeopleAllowed\" => this.setMaxPeopleAllowed(v.toInt)\n",
    "            }\n",
    "            this.update()\n",
    "        })\n",
    "    }\n",
    "    \n",
    "    private def setName(name : String) : Unit = {\n",
    "        this.name = name\n",
    "    }\n",
    "    \n",
    "    private def setMaxPeopleAllowed(maxPeopleAllowed : Int) : Unit = {\n",
    "        this.maxPeopleAllowed = maxPeopleAllowed\n",
    "    }\n",
    "    \n",
    "    private def update() : Unit = {\n",
    "        this.lastUpdate = Instant.ofEpochMilli(System.currentTimeMillis).toString\n",
    "    }\n",
    "\n",
    "}\n",
    "\n",
    "object Generator {\n",
    "    private val random = new scala.util.Random\n",
    "    \n",
    "    private def randomInt(num : Int) : Int = {\n",
    "        this.random.nextInt(num)\n",
    "    }\n",
    "    \n",
    "    def getId() : Int = {\n",
    "        this.randomInt(100)\n",
    "    }\n",
    "    \n",
    "    def getLocation() : String = {\n",
    "        val randomPos = this.randomInt(6)\n",
    "        print(randomPos)\n",
    "        List(\"San Francisco\",\"Washington\",\"Brazil\",\"London\",\"Barcelona\",\"Madrid\",\"Los Angeles\")(randomPos)\n",
    "    }\n",
    "\n",
    "}"
   ]
  },
  {
   "cell_type": "markdown",
   "metadata": {},
   "source": [
    "## Creating Kafka Producer"
   ]
  },
  {
   "cell_type": "code",
   "execution_count": 22,
   "metadata": {},
   "outputs": [
    {
     "data": {
      "text/plain": [
       "\u001b[32mimport \u001b[39m\u001b[36morg.apache.kafka.clients.producer.{KafkaProducer,ProducerRecord,ProducerConfig,RecordMetadata,Callback}\n",
       "\u001b[39m\n",
       "\u001b[32mimport \u001b[39m\u001b[36mjava.util.Properties\u001b[39m"
      ]
     },
     "execution_count": 22,
     "metadata": {},
     "output_type": "execute_result"
    }
   ],
   "source": [
    "//Serializer org.apache.kafka.common.serialization.StringSerializer\n",
    "import org.apache.kafka.clients.producer.{KafkaProducer,ProducerRecord,ProducerConfig,RecordMetadata,Callback}\n",
    "import java.util.Properties"
   ]
  },
  {
   "cell_type": "code",
   "execution_count": 53,
   "metadata": {},
   "outputs": [
    {
     "data": {
      "text/plain": [
       "\u001b[36mjsonParser\u001b[39m: \u001b[32mGson\u001b[39m = {serializeNulls:false,factories:[Factory[typeHierarchy=com.google.gson.JsonElement,adapter=com.google.gson.internal.bind.TypeAdapters$29@65d60c8], com.google.gson.internal.bind.ObjectTypeAdapter$1@5446cd2, com.google.gson.internal.Excluder@8e8cf73, Factory[type=java.lang.String,adapter=com.google.gson.internal.bind.TypeAdapters$16@3de09fe], Factory[type=java.lang.Integer+int,adapter=com.google.gson.internal.bind.TypeAdapters$7@6ee8726d], Factory[type=java.lang.Boolean+boolean,adapter=com.google.gson.internal.bind.TypeAdapters$3@486ca19e], Factory[type=java.lang.Byte+byte,adapter=com.google.gson.internal.bind.TypeAdapters$5@6317cb7], Factory[type=java.lang.Short+short,adapter=com.google.gson.internal.bind.TypeAdapters$6@75531476], Factory[type=java.lang.Long+long,adapter=com.google.gson.internal.bind.TypeAdapters$11@58056bab], Factory[type=java.lang.Double+double,adapter=com.google.gson.Gson$1@7d35fd54], Factory[type=java.lang.Float+float,adapter=com.google.gson.Gson$2@58f93166], Factory[type=java.lang.Number,adapter=com.google.gson.internal.bind.TypeAdapters$14@150c146e], Factory[type=java.util.concurrent.atomic.AtomicInteger,adapter=com.google.gson.TypeAdapter$1@66a76d57], Factory[type=java.util.concurrent.atomic.AtomicBoolean,adapter=com.google.gson.TypeAdapter$1@5153c386], Factory[type=java.util.concurrent.atomic.AtomicLong,adapter=com.google.gson.TypeAdapter$1@3a66c8d2], Factory[type=java.util.concurrent.atomic.AtomicLongArray,adapter=com.google.gson.TypeAdapter$1@2651ac19], Factory[type=java.util.concurrent.atomic.AtomicIntegerArray,adapter=com.google.gson.TypeAdapter$1@b87470e], Factory[type=java.lang.Character+char,adapter=com.google.gson.internal.bind.TypeAdapters$15@4407ea0b], Factory[type=java.lang.StringBuilder,adapter=com.google.gson.internal.bind.TypeAdapters$19@b541c44], Factory[type=java.lang.StringBuffer,adapter=com.google.gson.internal.bind.TypeAdapters$20@67051555], Factory[type=java.math.BigDecimal,adapter=com.google.gson.internal.bind.TypeAdapters$17@560b918c], Factory[type=java.math.BigInteger,adapter=com.google.gson.internal.bind.TypeAdapters$18@2d276ef4], Factory[type=java.net.URL,adapter=com.google.gson.internal.bind.TypeAdapters$21@63af128], Factory[type=java.net.URI,adapter=com.google.gson.internal.bind.TypeAdapters$22@49dae307], Factory[type=java.util.UUID,adapter=com.google.gson.internal.bind.TypeAdapters$24@43d79c41], Factory[type=java.util.Currency,adapter=com.google.gson.TypeAdapter$1@55111a01], Factory[type=java.util.Locale,adapter=com.google.gson.internal.bind.TypeAdapters$28@473123a], Factory[typeHierarchy=java.net.InetAddress,adapter=com.google.gson.internal.bind.TypeAdapters$23@1a2f1b68], Factory[type=java.util.BitSet,adapter=com.google.gson.TypeAdapter$1@6565b9f8], com.google.gson.internal.bind.DateTypeAdapter$1@38796647, Factory[type=java.util.Calendar+java.util.GregorianCalendar,adapter=com.google.gson.internal.bind.TypeAdapters$27@248751b0], com.google.gson.internal.bind.TimeTypeAdapter$1@4611ea13, com.google.gson.internal.bind.SqlDateTypeAdapter$1@ef32150, com.google.gson.internal.bind.TypeAdapters$26@7dcb2597, com.google.g..."
      ]
     },
     "execution_count": 53,
     "metadata": {},
     "output_type": "execute_result"
    }
   ],
   "source": [
    "val jsonParser = new Gson()"
   ]
  },
  {
   "cell_type": "code",
   "execution_count": 43,
   "metadata": {},
   "outputs": [
    {
     "name": "stderr",
     "output_type": "stream",
     "text": [
      "SLF4J: Failed to load class \"org.slf4j.impl.StaticLoggerBinder\".\n",
      "SLF4J: Defaulting to no-operation (NOP) logger implementation\n",
      "SLF4J: See http://www.slf4j.org/codes.html#StaticLoggerBinder for further details.\n"
     ]
    },
    {
     "data": {
      "text/plain": [
       "\u001b[36mproducerProperties\u001b[39m: \u001b[32mProperties\u001b[39m = {bootstrap.servers=localhost:9092, acks=1, value.serializer=org.apache.kafka.common.serialization.StringSerializer, key.serializer=org.apache.kafka.common.serialization.StringSerializer}\n",
       "\u001b[36mres42_1\u001b[39m: \u001b[32mObject\u001b[39m = \u001b[32mnull\u001b[39m\n",
       "\u001b[36mres42_2\u001b[39m: \u001b[32mObject\u001b[39m = \u001b[32mnull\u001b[39m\n",
       "\u001b[36mres42_3\u001b[39m: \u001b[32mObject\u001b[39m = \u001b[32mnull\u001b[39m\n",
       "\u001b[36mres42_4\u001b[39m: \u001b[32mObject\u001b[39m = \u001b[32mnull\u001b[39m\n",
       "\u001b[36meventProducer\u001b[39m: \u001b[32mKafkaProducer\u001b[39m[\u001b[32mString\u001b[39m, \u001b[32mString\u001b[39m] = org.apache.kafka.clients.producer.KafkaProducer@15f013bd"
      ]
     },
     "execution_count": 43,
     "metadata": {},
     "output_type": "execute_result"
    }
   ],
   "source": [
    "val producerProperties = new Properties()\n",
    "producerProperties.put(ProducerConfig.BOOTSTRAP_SERVERS_CONFIG,\"localhost:9092\")\n",
    "producerProperties.put(ProducerConfig.KEY_SERIALIZER_CLASS_CONFIG,\"org.apache.kafka.common.serialization.StringSerializer\")\n",
    "producerProperties.put(ProducerConfig.VALUE_SERIALIZER_CLASS_CONFIG,\"org.apache.kafka.common.serialization.StringSerializer\")\n",
    "producerProperties.put(ProducerConfig.ACKS_CONFIG,\"1\") // Only Leader of Partition\n",
    "\n",
    "val eventProducer = new KafkaProducer[String,String](producerProperties,)"
   ]
  },
  {
   "cell_type": "code",
   "execution_count": 56,
   "metadata": {},
   "outputs": [
    {
     "name": "stdout",
     "output_type": "stream",
     "text": [
      "02253"
     ]
    },
    {
     "data": {
      "text/plain": [
       "\u001b[36meventsArray\u001b[39m: \u001b[32mcollection\u001b[39m.\u001b[32mmutable\u001b[39m.\u001b[32mArrayBuffer\u001b[39m[\u001b[32mEvent\u001b[39m] = \u001b[33mArrayBuffer\u001b[39m(\n",
       "  ammonite.$sess.cmd54$Helper$Event@22d31b28,\n",
       "  ammonite.$sess.cmd54$Helper$Event@7f48573c,\n",
       "  ammonite.$sess.cmd54$Helper$Event@34ec7cf5,\n",
       "  ammonite.$sess.cmd54$Helper$Event@6a36d2e6,\n",
       "  ammonite.$sess.cmd54$Helper$Event@58b466d5\n",
       ")"
      ]
     },
     "execution_count": 56,
     "metadata": {},
     "output_type": "execute_result"
    }
   ],
   "source": [
    "val eventsArray = new scala.collection.mutable.ArrayBuffer[Event]()\n",
    "eventsArray.append(new Event(Generator.getId,\"AWS Summit\",600,\"Technology\",Generator.getLocation))\n",
    "eventsArray.append(new Event(Generator.getId,\"Azure Conference\",850,\"Technology\",Generator.getLocation))\n",
    "eventsArray.append(new Event(Generator.getId,\"JavaScript Conference\",200,\"Technology\",Generator.getLocation))\n",
    "eventsArray.append(new Event(Generator.getId,\"Anime Friends\",410,\"Animes\",Generator.getLocation))\n",
    "eventsArray.append(new Event(Generator.getId,\"Comic Con\",410,\"Enterneinement\",Generator.getLocation))"
   ]
  },
  {
   "cell_type": "code",
   "execution_count": 61,
   "metadata": {},
   "outputs": [],
   "source": [
    "eventsArray(0).setUpdates(Map(\"name\" -> \"AWS Summit 2019\"))"
   ]
  },
  {
   "cell_type": "code",
   "execution_count": 62,
   "metadata": {},
   "outputs": [
    {
     "name": "stdout",
     "output_type": "stream",
     "text": [
      "null"
     ]
    }
   ],
   "source": [
    "for (i <- 0 until eventsArray.length) {\n",
    "    var event = eventsArray(i)\n",
    "    var json = jsonParser.toJson(event)\n",
    "    var message = new ProducerRecord[String,String](\"animes_topic\",json)\n",
    "    eventProducer.send(message,new Callback {\n",
    "        override def onCompletion(recordMetadata : RecordMetadata, e : Exception) : Unit = {\n",
    "            if( e == null) {\n",
    "                println(e)\n",
    "            } else {\n",
    "                println(s\"Event Sent! : Partition : ${recordMetadata.offset()}, Enqeued Time : ${recordMetadata.timestamp}\")\n",
    "            }\n",
    "        }\n",
    "    })\n",
    "}"
   ]
  }
 ],
 "metadata": {
  "kernelspec": {
   "display_name": "Scala",
   "language": "scala",
   "name": "scala"
  },
  "language_info": {
   "codemirror_mode": "text/x-scala",
   "file_extension": ".scala",
   "mimetype": "text/x-scala",
   "name": "scala",
   "nbconvert_exporter": "script",
   "version": "2.12.8"
  }
 },
 "nbformat": 4,
 "nbformat_minor": 2
}
