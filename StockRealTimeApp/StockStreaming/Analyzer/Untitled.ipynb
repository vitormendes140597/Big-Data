{
 "cells": [
  {
   "cell_type": "code",
   "execution_count": 1,
   "metadata": {},
   "outputs": [],
   "source": [
    "import sys\n",
    "import logging\n",
    "import datetime\n",
    "import time\n",
    "import os\n",
    "import requests\n",
    "\n",
    "from azure.eventhub import EventHubClient, Sender, EventData\n",
    "\n",
    "logger = logging.getLogger(\"azure\")\n",
    "\n",
    "# Address can be in either of these formats:\n",
    "# \"amqps://<URL-encoded-SAS-policy>:<URL-encoded-SAS-key>@<mynamespace>.servicebus.windows.net/myeventhub\"\n",
    "# \"amqps://<mynamespace>.servicebus.windows.net/myeventhub\"\n",
    "# For example:\n",
    "ADDRESS = \"amqps://stockhub.servicebus.windows.net/ev-stock\"\n",
    "\n",
    "# SAS policy and key are not required if they are encoded in the URL\n",
    "USER = \"RootManageSharedAccessKey\"\n",
    "KEY = \"Endpoint=sb://stockhub.servicebus.windows.net/;SharedAccessKeyName=RootManageSharedAccessKey;SharedAccessKey=kTh4bltHnTaDYMxg1iGhwgziWexK+FT2ykJSGXHbryw=\""
   ]
  },
  {
   "cell_type": "code",
   "execution_count": 2,
   "metadata": {},
   "outputs": [],
   "source": [
    "data = requests.get(\"https://api.worldtradingdata.com/api/v1/stock?symbol=AAPL,MSFT,HSBA.L&api_token=k9B22eS1vQvID3CK2rL3WafGw5FJJZibxwORjSUo9ilM5f0kblDjbvkqY1ut\").json()"
   ]
  },
  {
   "cell_type": "code",
   "execution_count": 6,
   "metadata": {},
   "outputs": [
    {
     "data": {
      "text/plain": [
       "<Response [401]>"
      ]
     },
     "execution_count": 6,
     "metadata": {},
     "output_type": "execute_result"
    }
   ],
   "source": [
    "url = \"https://stockhub.servicebus.windows.net/ev-stock/messages\"\n",
    "requests.post(url,data=data,headers={'Authorization': KEY})"
   ]
  }
 ],
 "metadata": {
  "kernelspec": {
   "display_name": "Python 3",
   "language": "python",
   "name": "python3"
  },
  "language_info": {
   "codemirror_mode": {
    "name": "ipython",
    "version": 3
   },
   "file_extension": ".py",
   "mimetype": "text/x-python",
   "name": "python",
   "nbconvert_exporter": "python",
   "pygments_lexer": "ipython3",
   "version": "3.7.1"
  }
 },
 "nbformat": 4,
 "nbformat_minor": 2
}
