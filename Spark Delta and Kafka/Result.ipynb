{
 "cells": [
  {
   "cell_type": "code",
   "execution_count": 1,
   "metadata": {},
   "outputs": [
    {
     "data": {
      "text/plain": [
       "\u001b[32mimport \u001b[39m\u001b[36m$ivy.$                                       \n",
       "\u001b[39m\n",
       "\u001b[32mimport \u001b[39m\u001b[36m$ivy.$                                      \n",
       "\u001b[39m\n",
       "\u001b[32mimport \u001b[39m\u001b[36m$ivy.$                                           \n",
       "\u001b[39m\n",
       "\u001b[32mimport \u001b[39m\u001b[36m$ivy.$                               \u001b[39m"
      ]
     },
     "execution_count": 1,
     "metadata": {},
     "output_type": "execute_result"
    }
   ],
   "source": [
    "import $ivy.`org.apache.spark:spark-core_2.12:2.4.3`\n",
    "import $ivy.`org.apache.spark:spark-sql_2.12:2.4.3`\n",
    "import $ivy.`org.apache.spark:spark-catalyst_2.12:2.4.3`\n",
    "import $ivy.`io.delta:delta-core_2.12:0.3.0`"
   ]
  },
  {
   "cell_type": "code",
   "execution_count": 6,
   "metadata": {},
   "outputs": [
    {
     "data": {
      "text/plain": [
       "\u001b[32mimport \u001b[39m\u001b[36morg.apache.spark.sql.SparkSession\n",
       "\u001b[39m\n",
       "\u001b[32mimport \u001b[39m\u001b[36mio.delta.tables._\n",
       "\u001b[39m\n",
       "\u001b[32mimport \u001b[39m\u001b[36morg.apache.log4j.{Level, Logger}\n",
       "\u001b[39m"
      ]
     },
     "execution_count": 6,
     "metadata": {},
     "output_type": "execute_result"
    }
   ],
   "source": [
    "import org.apache.spark.sql.SparkSession\n",
    "import io.delta.tables._\n",
    "import org.apache.log4j.{Level, Logger}\n",
    "Logger.getLogger(\"org\").setLevel(Level.OFF)"
   ]
  },
  {
   "cell_type": "code",
   "execution_count": 7,
   "metadata": {},
   "outputs": [
    {
     "name": "stderr",
     "output_type": "stream",
     "text": [
      "Using Spark's default log4j profile: org/apache/spark/log4j-defaults.properties\n"
     ]
    },
    {
     "data": {
      "text/plain": [
       "\u001b[36mspark\u001b[39m: \u001b[32mSparkSession\u001b[39m = org.apache.spark.sql.SparkSession@6bd42e8d\n",
       "\u001b[32mimport \u001b[39m\u001b[36mspark.implicits._\u001b[39m"
      ]
     },
     "execution_count": 7,
     "metadata": {},
     "output_type": "execute_result"
    }
   ],
   "source": [
    "val spark = SparkSession\n",
    "                .builder()\n",
    "                .config(\"spark.driver.memory\",\"3g\")\n",
    "                .master(\"local[*]\")\n",
    "                .getOrCreate()\n",
    "\n",
    "import spark.implicits._"
   ]
  },
  {
   "cell_type": "code",
   "execution_count": 8,
   "metadata": {},
   "outputs": [
    {
     "data": {
      "text/plain": [
       "\u001b[36meventsDelta\u001b[39m: \u001b[32mDeltaTable\u001b[39m = io.delta.tables.DeltaTable@7fd55797"
      ]
     },
     "execution_count": 8,
     "metadata": {},
     "output_type": "execute_result"
    }
   ],
   "source": [
    "val eventsDelta = DeltaTable.forPath(spark,\"/home/vitor/Documents/datasets/events\")"
   ]
  },
  {
   "cell_type": "code",
   "execution_count": 13,
   "metadata": {},
   "outputs": [
    {
     "name": "stdout",
     "output_type": "stream",
     "text": [
      "+-------+-------------------+------+--------+---------+--------------------+----+--------+---------+-----------+--------------+-------------+\n",
      "|version|          timestamp|userId|userName|operation| operationParameters| job|notebook|clusterId|readVersion|isolationLevel|isBlindAppend|\n",
      "+-------+-------------------+------+--------+---------+--------------------+----+--------+---------+-----------+--------------+-------------+\n",
      "|      6|2019-08-31 23:03:22|  null|    null|    MERGE|[predicate -> ((o...|null|    null|     null|          5|          null|        false|\n",
      "|      5|2019-08-31 23:03:03|  null|    null|    MERGE|[predicate -> ((o...|null|    null|     null|          4|          null|        false|\n",
      "|      4|2019-08-31 23:02:02|  null|    null|    MERGE|[predicate -> ((o...|null|    null|     null|          3|          null|        false|\n",
      "|      3|2019-08-31 23:01:55|  null|    null|    MERGE|[predicate -> ((o...|null|    null|     null|          2|          null|        false|\n",
      "|      2|2019-08-31 22:57:21|  null|    null|    MERGE|[predicate -> ((o...|null|    null|     null|          1|          null|        false|\n",
      "|      1|2019-08-31 22:57:05|  null|    null|    MERGE|[predicate -> ((o...|null|    null|     null|          0|          null|        false|\n",
      "|      0|2019-08-31 22:56:47|  null|    null|    WRITE|[mode -> ErrorIfE...|null|    null|     null|       null|          null|         true|\n",
      "+-------+-------------------+------+--------+---------+--------------------+----+--------+---------+-----------+--------------+-------------+\n",
      "\n"
     ]
    }
   ],
   "source": [
    "eventsDelta.history().show"
   ]
  },
  {
   "cell_type": "code",
   "execution_count": 16,
   "metadata": {},
   "outputs": [
    {
     "name": "stdout",
     "output_type": "stream",
     "text": [
      "+---+---------------------+----------------+--------------+-------------+-----------------------+\n",
      "|id |name                 |maxPeopleAllowed|eventType     |location     |lastUpdate             |\n",
      "+---+---------------------+----------------+--------------+-------------+-----------------------+\n",
      "|2  |AWS Summit 2019      |600             |Technology    |San Francisco|2019-08-31 23:14:11.644|\n",
      "|2  |AWS Summit 2019      |600             |Technology    |San Francisco|2019-08-31 23:14:11.644|\n",
      "|50 |JavaScript Conference|200             |Technology    |Brazil       |2019-08-31 21:37:50.234|\n",
      "|50 |JavaScript Conference|200             |Technology    |Brazil       |2019-08-31 21:37:50.234|\n",
      "|50 |JavaScript Conference|200             |Technology    |Brazil       |2019-08-31 21:37:50.234|\n",
      "|56 |Azure Conference     |850             |Technology    |Brazil       |2019-08-31 21:37:50.234|\n",
      "|56 |Azure Conference     |850             |Technology    |Brazil       |2019-08-31 21:37:50.234|\n",
      "|56 |Azure Conference     |850             |Technology    |Brazil       |2019-08-31 21:37:50.234|\n",
      "|21 |Comic Con            |410             |Enterneinement|London       |2019-08-31 21:37:50.234|\n",
      "|21 |Comic Con            |410             |Enterneinement|London       |2019-08-31 21:37:50.234|\n",
      "|21 |Comic Con            |410             |Enterneinement|London       |2019-08-31 21:37:50.234|\n",
      "|34 |Anime Friends        |410             |Animes        |Madrid       |2019-08-31 21:37:50.234|\n",
      "|34 |Anime Friends        |410             |Animes        |Madrid       |2019-08-31 21:37:50.234|\n",
      "|34 |Anime Friends        |410             |Animes        |Madrid       |2019-08-31 21:37:50.234|\n",
      "+---+---------------------+----------------+--------------+-------------+-----------------------+\n",
      "\n"
     ]
    }
   ],
   "source": [
    "eventsDelta.toDF.show(false)"
   ]
  }
 ],
 "metadata": {
  "kernelspec": {
   "display_name": "Scala",
   "language": "scala",
   "name": "scala"
  },
  "language_info": {
   "codemirror_mode": "text/x-scala",
   "file_extension": ".scala",
   "mimetype": "text/x-scala",
   "name": "scala",
   "nbconvert_exporter": "script",
   "version": "2.12.8"
  }
 },
 "nbformat": 4,
 "nbformat_minor": 2
}
